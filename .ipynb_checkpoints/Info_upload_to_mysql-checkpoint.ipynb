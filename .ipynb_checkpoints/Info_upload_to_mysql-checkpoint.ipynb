{
 "cells": [
  {
   "cell_type": "code",
   "execution_count": 1,
   "metadata": {},
   "outputs": [],
   "source": [
    "import pandas as pd\n",
    "from sqlalchemy import create_engine\n",
    "csv_inegi = \"./Resources/ags.xlsx\""
   ]
  },
  {
   "cell_type": "code",
   "execution_count": 2,
   "metadata": {},
   "outputs": [
    {
     "data": {
      "text/html": [
       "<div>\n",
       "<style scoped>\n",
       "    .dataframe tbody tr th:only-of-type {\n",
       "        vertical-align: middle;\n",
       "    }\n",
       "\n",
       "    .dataframe tbody tr th {\n",
       "        vertical-align: top;\n",
       "    }\n",
       "\n",
       "    .dataframe thead th {\n",
       "        text-align: right;\n",
       "    }\n",
       "</style>\n",
       "<table border=\"1\" class=\"dataframe\">\n",
       "  <thead>\n",
       "    <tr style=\"text-align: right;\">\n",
       "      <th></th>\n",
       "      <th>Index</th>\n",
       "      <th>Entidad</th>\n",
       "      <th>Sector</th>\n",
       "      <th>Edad</th>\n",
       "      <th>Sobrevivientes</th>\n",
       "      <th>Probabilidad_Supervivencia</th>\n",
       "      <th>Probabilidad_ muerte</th>\n",
       "      <th>Muertes_antes_de</th>\n",
       "      <th>Esperanza_de_vida</th>\n",
       "    </tr>\n",
       "  </thead>\n",
       "  <tbody>\n",
       "    <tr>\n",
       "      <th>0</th>\n",
       "      <td>1</td>\n",
       "      <td>Aguascalientes</td>\n",
       "      <td>Total</td>\n",
       "      <td>0</td>\n",
       "      <td>100000.000000</td>\n",
       "      <td>0.677566</td>\n",
       "      <td>0.322434</td>\n",
       "      <td>32243.398680</td>\n",
       "      <td>7.588805</td>\n",
       "    </tr>\n",
       "    <tr>\n",
       "      <th>1</th>\n",
       "      <td>2</td>\n",
       "      <td>Aguascalientes</td>\n",
       "      <td>Total</td>\n",
       "      <td>1</td>\n",
       "      <td>67756.601320</td>\n",
       "      <td>0.486096</td>\n",
       "      <td>0.513904</td>\n",
       "      <td>19147.002663</td>\n",
       "      <td>7.955294</td>\n",
       "    </tr>\n",
       "    <tr>\n",
       "      <th>2</th>\n",
       "      <td>3</td>\n",
       "      <td>Aguascalientes</td>\n",
       "      <td>Total</td>\n",
       "      <td>2</td>\n",
       "      <td>48609.598657</td>\n",
       "      <td>0.424920</td>\n",
       "      <td>0.575080</td>\n",
       "      <td>6117.579145</td>\n",
       "      <td>8.343101</td>\n",
       "    </tr>\n",
       "    <tr>\n",
       "      <th>3</th>\n",
       "      <td>4</td>\n",
       "      <td>Aguascalientes</td>\n",
       "      <td>Total</td>\n",
       "      <td>3</td>\n",
       "      <td>42492.019511</td>\n",
       "      <td>0.381515</td>\n",
       "      <td>0.618485</td>\n",
       "      <td>4340.491479</td>\n",
       "      <td>8.741390</td>\n",
       "    </tr>\n",
       "    <tr>\n",
       "      <th>4</th>\n",
       "      <td>5</td>\n",
       "      <td>Aguascalientes</td>\n",
       "      <td>Total</td>\n",
       "      <td>4</td>\n",
       "      <td>38151.528032</td>\n",
       "      <td>0.347848</td>\n",
       "      <td>0.652152</td>\n",
       "      <td>3366.746752</td>\n",
       "      <td>9.160642</td>\n",
       "    </tr>\n",
       "  </tbody>\n",
       "</table>\n",
       "</div>"
      ],
      "text/plain": [
       "   Index         Entidad Sector  Edad  Sobrevivientes  \\\n",
       "0      1  Aguascalientes  Total     0   100000.000000   \n",
       "1      2  Aguascalientes  Total     1    67756.601320   \n",
       "2      3  Aguascalientes  Total     2    48609.598657   \n",
       "3      4  Aguascalientes  Total     3    42492.019511   \n",
       "4      5  Aguascalientes  Total     4    38151.528032   \n",
       "\n",
       "   Probabilidad_Supervivencia  Probabilidad_ muerte  Muertes_antes_de  \\\n",
       "0                    0.677566              0.322434      32243.398680   \n",
       "1                    0.486096              0.513904      19147.002663   \n",
       "2                    0.424920              0.575080       6117.579145   \n",
       "3                    0.381515              0.618485       4340.491479   \n",
       "4                    0.347848              0.652152       3366.746752   \n",
       "\n",
       "   Esperanza_de_vida  \n",
       "0           7.588805  \n",
       "1           7.955294  \n",
       "2           8.343101  \n",
       "3           8.741390  \n",
       "4           9.160642  "
      ]
     },
     "execution_count": 2,
     "metadata": {},
     "output_type": "execute_result"
    }
   ],
   "source": [
    "PIB_df = pd.read_excel(csv_inegi,encoding ='latin1')\n",
    "PIB_df.head(5)"
   ]
  },
  {
   "cell_type": "code",
   "execution_count": 5,
   "metadata": {},
   "outputs": [],
   "source": [
    "rds_connection_string =  \"root:root@localhost:3306/vida_empresas\"\n",
    "engine = create_engine(f'mysql://{rds_connection_string}')"
   ]
  },
  {
   "cell_type": "code",
   "execution_count": 8,
   "metadata": {},
   "outputs": [],
   "source": [
    "PIB_df.to_sql(name='vida', con=engine, if_exists='append', index=False)"
   ]
  },
  {
   "cell_type": "code",
   "execution_count": null,
   "metadata": {},
   "outputs": [],
   "source": []
  },
  {
   "cell_type": "code",
   "execution_count": null,
   "metadata": {},
   "outputs": [],
   "source": []
  }
 ],
 "metadata": {
  "kernelspec": {
   "display_name": "Python 3",
   "language": "python",
   "name": "python3"
  },
  "language_info": {
   "codemirror_mode": {
    "name": "ipython",
    "version": 3
   },
   "file_extension": ".py",
   "mimetype": "text/x-python",
   "name": "python",
   "nbconvert_exporter": "python",
   "pygments_lexer": "ipython3",
   "version": "3.7.1"
  }
 },
 "nbformat": 4,
 "nbformat_minor": 2
}
