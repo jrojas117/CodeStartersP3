{
 "cells": [
  {
   "cell_type": "code",
   "execution_count": 26,
   "metadata": {},
   "outputs": [],
   "source": [
    "import pandas as pd\n",
    "from sqlalchemy import create_engine\n",
    "csv_inegi = \"./Resources/datos.xlsx\""
   ]
  },
  {
   "cell_type": "code",
   "execution_count": 27,
   "metadata": {},
   "outputs": [
    {
     "data": {
      "text/html": [
       "<div>\n",
       "<style scoped>\n",
       "    .dataframe tbody tr th:only-of-type {\n",
       "        vertical-align: middle;\n",
       "    }\n",
       "\n",
       "    .dataframe tbody tr th {\n",
       "        vertical-align: top;\n",
       "    }\n",
       "\n",
       "    .dataframe thead th {\n",
       "        text-align: right;\n",
       "    }\n",
       "</style>\n",
       "<table border=\"1\" class=\"dataframe\">\n",
       "  <thead>\n",
       "    <tr style=\"text-align: right;\">\n",
       "      <th></th>\n",
       "      <th>Entidad</th>\n",
       "      <th>Sector</th>\n",
       "      <th>Edad</th>\n",
       "      <th>Sobrevivientes</th>\n",
       "      <th>Probabilidad_Supervivencia</th>\n",
       "      <th>/Aguascalientes/Muertes_antes_de/Total</th>\n",
       "      <th>Muertes_antes_de</th>\n",
       "      <th>Esperanza_de_vida</th>\n",
       "    </tr>\n",
       "  </thead>\n",
       "  <tbody>\n",
       "    <tr>\n",
       "      <th>0</th>\n",
       "      <td>Aguascalientes</td>\n",
       "      <td>Comercio</td>\n",
       "      <td>0</td>\n",
       "      <td>100000.000000</td>\n",
       "      <td>0.688953</td>\n",
       "      <td>0.311047</td>\n",
       "      <td>31104.674100</td>\n",
       "      <td>7.036147</td>\n",
       "    </tr>\n",
       "    <tr>\n",
       "      <th>1</th>\n",
       "      <td>Aguascalientes</td>\n",
       "      <td>Comercio</td>\n",
       "      <td>1</td>\n",
       "      <td>68895.325900</td>\n",
       "      <td>0.473342</td>\n",
       "      <td>0.526658</td>\n",
       "      <td>21561.160442</td>\n",
       "      <td>7.391918</td>\n",
       "    </tr>\n",
       "    <tr>\n",
       "      <th>2</th>\n",
       "      <td>Aguascalientes</td>\n",
       "      <td>Comercio</td>\n",
       "      <td>2</td>\n",
       "      <td>47334.165457</td>\n",
       "      <td>0.411624</td>\n",
       "      <td>0.588376</td>\n",
       "      <td>6171.729057</td>\n",
       "      <td>7.765678</td>\n",
       "    </tr>\n",
       "    <tr>\n",
       "      <th>3</th>\n",
       "      <td>Aguascalientes</td>\n",
       "      <td>Comercio</td>\n",
       "      <td>3</td>\n",
       "      <td>41162.436401</td>\n",
       "      <td>0.367785</td>\n",
       "      <td>0.632215</td>\n",
       "      <td>4383.963926</td>\n",
       "      <td>8.158337</td>\n",
       "    </tr>\n",
       "    <tr>\n",
       "      <th>4</th>\n",
       "      <td>Aguascalientes</td>\n",
       "      <td>Comercio</td>\n",
       "      <td>4</td>\n",
       "      <td>36778.472475</td>\n",
       "      <td>0.333757</td>\n",
       "      <td>0.666243</td>\n",
       "      <td>3402.724652</td>\n",
       "      <td>8.570850</td>\n",
       "    </tr>\n",
       "  </tbody>\n",
       "</table>\n",
       "</div>"
      ],
      "text/plain": [
       "          Entidad    Sector  Edad  Sobrevivientes  Probabilidad_Supervivencia  \\\n",
       "0  Aguascalientes  Comercio     0   100000.000000                    0.688953   \n",
       "1  Aguascalientes  Comercio     1    68895.325900                    0.473342   \n",
       "2  Aguascalientes  Comercio     2    47334.165457                    0.411624   \n",
       "3  Aguascalientes  Comercio     3    41162.436401                    0.367785   \n",
       "4  Aguascalientes  Comercio     4    36778.472475                    0.333757   \n",
       "\n",
       "   /Aguascalientes/Muertes_antes_de/Total  Muertes_antes_de  Esperanza_de_vida  \n",
       "0                                0.311047      31104.674100           7.036147  \n",
       "1                                0.526658      21561.160442           7.391918  \n",
       "2                                0.588376       6171.729057           7.765678  \n",
       "3                                0.632215       4383.963926           8.158337  \n",
       "4                                0.666243       3402.724652           8.570850  "
      ]
     },
     "execution_count": 27,
     "metadata": {},
     "output_type": "execute_result"
    }
   ],
   "source": [
    "PIB_df = pd.read_excel(csv_inegi,encoding ='latin1')\n",
    "PIB_df.head(5)"
   ]
  },
  {
   "cell_type": "code",
   "execution_count": 28,
   "metadata": {},
   "outputs": [],
   "source": [
    "#**************MYSQL LOCAL\n",
    "rds_connection_string =  \"root:root@localhost:3306/vida_empresas\"\n",
    "#************** MYSQL HEROKU\n",
    "#rds_connection_string =  \"b62501bab4eb42:233b2b1b@us-cdbr-iron-east-02.cleardb.net/heroku_2a68ca7f0c22a7b/\"\n",
    "engine = create_engine(f'mysql://{rds_connection_string}')"
   ]
  },
  {
   "cell_type": "code",
   "execution_count": 29,
   "metadata": {},
   "outputs": [],
   "source": [
    "PIB_df.to_sql(name='vida', con=engine, if_exists='append', index=False)"
   ]
  },
  {
   "cell_type": "code",
   "execution_count": 30,
   "metadata": {},
   "outputs": [],
   "source": [
    "import sqlalchemy as db\n",
    "connection = engine.connect()\n",
    "metadata = db.MetaData()\n",
    "census = db.Table('vida', metadata, autoload=True, autoload_with=engine)\n",
    "Entidad=db.select([census]).where(census.columns.Entidad == 'Aguascalientes')"
   ]
  },
  {
   "cell_type": "code",
   "execution_count": 8,
   "metadata": {},
   "outputs": [
    {
     "name": "stdout",
     "output_type": "stream",
     "text": [
      "SELECT vida.\"Entidad\", vida.\"Sector\", vida.\"Edad\", vida.\"Sobrevivientes\", vida.\"Probabilidad_Supervivencia\", vida.\"/Aguascalientes/Muertes_antes_de/Total\", vida.\"Muertes_antes_de\", vida.\"Esperanza_de_vida\" \n",
      "FROM vida \n",
      "WHERE vida.\"Entidad\" = :Entidad_1\n"
     ]
    }
   ],
   "source": [
    "print(Entidad)"
   ]
  },
  {
   "cell_type": "code",
   "execution_count": null,
   "metadata": {},
   "outputs": [],
   "source": []
  }
 ],
 "metadata": {
  "kernelspec": {
   "display_name": "Python 3",
   "language": "python",
   "name": "python3"
  },
  "language_info": {
   "codemirror_mode": {
    "name": "ipython",
    "version": 3
   },
   "file_extension": ".py",
   "mimetype": "text/x-python",
   "name": "python",
   "nbconvert_exporter": "python",
   "pygments_lexer": "ipython3",
   "version": "3.7.1"
  }
 },
 "nbformat": 4,
 "nbformat_minor": 2
}
